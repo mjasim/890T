{
 "cells": [
  {
   "cell_type": "markdown",
   "metadata": {},
   "source": [
    "## Introduction"
   ]
  },
  {
   "cell_type": "markdown",
   "metadata": {},
   "source": [
    "In this notebook we will introduce and talk about functions. Functions are extremely useful concepts where you can bundle a set of instructions that you can use repeatedly or want to have self contained as a sub-program to be called when necessary. Think of it as a blackbox that does something for you when call it. To perform the task, the blackbox might or might not need inputs that you need to supply and it might or might not return a value. \n",
    "\n",
    "There are three different kinds of function in python: \n",
    "\n",
    "1. Built-in functions\n",
    "2. User defined functions\n",
    "3. anonymous functions\n",
    "\n",
    "You have seen some of the built-in functions already, like print() and type(). In this notebook, we will mostly discuss about user defined functions - the ones that you have to custom make by hand to perform a specific task.\n",
    "\n",
    "We will dig a lot more down below. "
   ]
  },
  {
   "cell_type": "markdown",
   "metadata": {},
   "source": [
    "### Structure"
   ]
  },
  {
   "cell_type": "markdown",
   "metadata": {},
   "source": [
    "The structure of the function is as shown in the following picture. We will return to the terminologies later. For now, try to get a sense of the structure. "
   ]
  },
  {
   "cell_type": "markdown",
   "metadata": {},
   "source": [
    "<img src=\"images/function.png\" width=\"800\" height=\"600\" align=\"center\"/>"
   ]
  },
  {
   "cell_type": "markdown",
   "metadata": {},
   "source": [
    "The function will have a name, as shown in blue. The naming rules are like variables. There are two keywords that you need to remeber for functions - def and return, shown in green. A statment starting with def means you are defining a new function while return tells you what to return from the function you just defined. The def statement will always end with a colon (:) as shown in red. There may or may not be parameters of a function. The parameters hold the inputs (arguments) you send to the function and inside the function as shown in orenge, you will work on these parameters to perform your task and produce the result. This is called the body of a function. Finally, you will return the result to the caller, as shown in purple. The parameters will always need to be inside a set of parantheses (()) as shown in red. \n",
    "\n",
    "On the other hand, a function call looks like the following picture."
   ]
  },
  {
   "cell_type": "markdown",
   "metadata": {},
   "source": [
    "<img src=\"call.png\" width=\"400\" height=\"300\" align=\"center\"/>"
   ]
  },
  {
   "cell_type": "markdown",
   "metadata": {},
   "source": [
    "You call a function using some or no arguments, shown in orenge and whatever result you have returned from the function will be stored in the variable result, shown in purple. The arguments must always be inside a set of parantheses (()) as shown in red. Be mindful that the result inside the function itself and the one that you have outside that stores the function are completely different because they are in different scopes. But we will get to that later. Also, notice that the arguments will become parameters once they reach the function. \n",
    "\n",
    "Now it is time to take a look at a simple function. We will define a function named \"add\". It will take two integers as inputs, add them together and return the output. We will recieve the output in a variable called \"result\" and print the value of result. Run the cell for the code to work."
   ]
  },
  {
   "cell_type": "code",
   "execution_count": null,
   "metadata": {},
   "outputs": [],
   "source": [
    "# write a function to add two integers\n",
    "def add(parameter1, parameter2):\n",
    "    print(\"Inside the function\")\n",
    "    print(\"parameter1 = \",  parameter1, \"parameter2 = \", parameter2)\n",
    "    result = parameter1 + parameter2\n",
    "    print(\"Returning result from inside the function = \", result)\n",
    "    return result\n",
    "\n",
    "argument1 = 5\n",
    "argument2 = 10\n",
    "print(\"Outside the function\")\n",
    "print(\"argument1 = \", argument1, \"argument2 = \", argument2)\n",
    "result = add(argument1, argument2)\n",
    "print(\"Received result at outside of function = \", result)\n",
    "print(result)"
   ]
  },
  {
   "cell_type": "markdown",
   "metadata": {},
   "source": [
    "Let's break it down piece by piece. We have first defined a function called add that takes two inputs and return their added value. \n",
    "\n",
    "To test the function works we took two integers called argument1 and argument2. We called the function and provided these arguments as inputs. Once inside the function, they have become parameters1 and parameters2 as you can see from the printed output. After adding them together, we return the added value as result. We receive this value from the call and print it.\n",
    "\n",
    "See the output and trace the sequence of operations. "
   ]
  },
  {
   "cell_type": "markdown",
   "metadata": {},
   "source": [
    "Try writing a function in the cell below that takes two integers and subtracts the second integer from the first integer. It should be very similar to the example function above. Feel free to use any integer you like. "
   ]
  },
  {
   "cell_type": "code",
   "execution_count": null,
   "metadata": {},
   "outputs": [],
   "source": [
    "# Write a function that takes two integers and subtracts \n",
    "# the second integer from the first integer\n",
    "\n",
    "\n",
    "\n",
    "\n"
   ]
  },
  {
   "cell_type": "markdown",
   "metadata": {},
   "source": [
    "You can of course, always write a function that will not take any argument or not return any results. It will simply perform a specific task. An example is provided below. "
   ]
  },
  {
   "cell_type": "code",
   "execution_count": null,
   "metadata": {},
   "outputs": [],
   "source": [
    "def hello():\n",
    "    print(\"Hello World\")\n",
    "    \n",
    "hello()"
   ]
  },
  {
   "cell_type": "markdown",
   "metadata": {},
   "source": [
    "As you can see, the function hello simply prints \"Hello World\" when called. It does not take an argument, nor it returns a value. "
   ]
  },
  {
   "cell_type": "markdown",
   "metadata": {},
   "source": [
    "You can also return multiple values. Run the cell below. Feel free to return more values if you want. But remember to recieve them after the call. "
   ]
  },
  {
   "cell_type": "code",
   "execution_count": null,
   "metadata": {},
   "outputs": [],
   "source": [
    "def return_multiple_values():\n",
    "    text = \"Hello\"\n",
    "    another_text = \"World\"\n",
    "    return text, another_text\n",
    "\n",
    "first_text_returned, second_text_returned = return_multiple_values()\n",
    "\n",
    "print(first_text_returned)\n",
    "print(second_text_returned)"
   ]
  },
  {
   "cell_type": "markdown",
   "metadata": {},
   "source": [
    "In the following cell, try writing a single function that takes two inputs as an integer and return their sum as well as their product. Take hints from the previous code cells. "
   ]
  },
  {
   "cell_type": "code",
   "execution_count": null,
   "metadata": {},
   "outputs": [],
   "source": [
    "# Write a function that takes two integers and  \n",
    "# returns their sum as well as their product\n",
    "\n",
    "\n",
    "\n",
    "\n",
    "\n"
   ]
  },
  {
   "cell_type": "markdown",
   "metadata": {},
   "source": [
    "### Scope"
   ]
  },
  {
   "cell_type": "markdown",
   "metadata": {},
   "source": [
    "Let's discuss more about scope. There are two kinds of scope you need to remember - global and local. \n",
    "\n",
    "In general, variables that are defined inside a function body have a local scope, and those defined outside have a global scope. That means that local variables are defined within a function block and can only be accessed inside that function, while global variables can be accessed by all functions that are in your code.\n",
    "\n",
    "Let's look at an example below."
   ]
  },
  {
   "cell_type": "code",
   "execution_count": null,
   "metadata": {},
   "outputs": [],
   "source": [
    "global_var = 10\n",
    "\n",
    "def my_function():\n",
    "    local_var = 15\n",
    "    print(\"Printing global_var from inside the function\")\n",
    "    print(\"global_var = \", global_var)\n",
    "    print(\"Printing local_var from inside the function\")\n",
    "    print(\"local_var = \", local_var)\n",
    "    \n",
    "print(\"Printing global_var from outside the function\")\n",
    "print(\"global_var = \", global_var)\n",
    "\n",
    "my_function()\n",
    "\n",
    "#print(\"Printing local_var from outside the function\")\n",
    "#print(\"local_var = \", local_var)\n"
   ]
  },
  {
   "cell_type": "markdown",
   "metadata": {},
   "source": [
    "As you can see the global variable global_var can be printed from both inside and outside of the function as it is accessible from anywhere. But the local variable local_var was defined inside the function. So, this function can not be accessesed outside of the function. From inside of the function it can be printed as seen from the output.\n",
    "\n",
    "However, if you remove the two hash symbols (#) that define comments, and then run the cell again, you will get a NameError saying name 'local_var' is not defined. Because it was defined inside the function, it can not be accessed from outside the function. "
   ]
  },
  {
   "cell_type": "markdown",
   "metadata": {},
   "source": [
    "### Naming"
   ]
  },
  {
   "cell_type": "markdown",
   "metadata": {},
   "source": [
    "As an important note, it is best to be careful about the name of the function by keeping it different from other variables. In Python can name a variable and a function by the same name. Python will not raise an exception in that case but when you call the function, it might try calling the variable which will not work as intended and you will get an error. Run the following cell. You should see the function get_value will take the input_value as an argument and return double the input_value. \n",
    "\n",
    "Now, remove the hash symbol (#) and run it again. You should get an error saying, 'float' object is not callable. This happens because we created a float variable of the same name as get_double and when we are calling the function get_double instead of the function, the program is reaching out to the float variable. "
   ]
  },
  {
   "cell_type": "code",
   "execution_count": null,
   "metadata": {},
   "outputs": [],
   "source": [
    "def get_double(value):\n",
    "    return 2 * value\n",
    "\n",
    "#get_double = 20.0\n",
    "\n",
    "input_value = 10\n",
    "result = get_double(input_value)\n",
    "print(result)"
   ]
  },
  {
   "cell_type": "markdown",
   "metadata": {},
   "source": [
    "## Summary"
   ]
  },
  {
   "cell_type": "markdown",
   "metadata": {},
   "source": [
    "In this notebook we introduced different functions and explained how their structures, how they should be named and their usage."
   ]
  },
  {
   "cell_type": "code",
   "execution_count": null,
   "metadata": {},
   "outputs": [],
   "source": []
  }
 ],
 "metadata": {
  "kernelspec": {
   "display_name": "Python 3",
   "language": "python",
   "name": "python3"
  },
  "language_info": {
   "codemirror_mode": {
    "name": "ipython",
    "version": 3
   },
   "file_extension": ".py",
   "mimetype": "text/x-python",
   "name": "python",
   "nbconvert_exporter": "python",
   "pygments_lexer": "ipython3",
   "version": "3.6.5"
  }
 },
 "nbformat": 4,
 "nbformat_minor": 2
}
