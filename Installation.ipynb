{
 "cells": [
  {
   "cell_type": "markdown",
   "metadata": {},
   "source": [
    "## Introduction"
   ]
  },
  {
   "cell_type": "markdown",
   "metadata": {},
   "source": [
    "Python is a high level programming language which is easy to pick up even if you are new to programming. This notebook will guide you to install and run your python programs using jupyter notebooks in an easy way."
   ]
  },
  {
   "cell_type": "markdown",
   "metadata": {},
   "source": [
    "## Installation"
   ]
  },
  {
   "cell_type": "markdown",
   "metadata": {},
   "source": [
    "One of the easiest way to install python with jupyter notebooks is to install Anaconda which comes with more than 300 packages for your convenience. To install Anaconda, follow this link - https://www.anaconda.com/download/ <br><br> On the website, select your operating system and python version (2.xx or 3.xx) and download the installer. We highly recommend using 3.xx and the rest of the tutorial will assume you did so. "
   ]
  },
  {
   "cell_type": "markdown",
   "metadata": {},
   "source": [
    "<img src=\"anaconda_download.png\" width=\"1024\" height=\"786\" align=\"center\"/>"
   ]
  },
  {
   "cell_type": "markdown",
   "metadata": {},
   "source": [
    "After you have downloaded the installer, run it and complete the setup. Follow the instructions on the installer properly to successfully complete the setup. "
   ]
  },
  {
   "cell_type": "markdown",
   "metadata": {},
   "source": [
    "<img src=\"anaconda_setup.png\" width=\"480\" height=\"320\" align=\"center\"/>"
   ]
  },
  {
   "cell_type": "markdown",
   "metadata": {},
   "source": [
    "## Running a program"
   ]
  },
  {
   "cell_type": "markdown",
   "metadata": {},
   "source": [
    "After you have finished installing, open a terminal (Linux/Mac) or command prompt (Windows) and write the following command <br><br> jupyter notebook"
   ]
  },
  {
   "cell_type": "markdown",
   "metadata": {},
   "source": [
    "<img src=\"jupyter_run.png\" width=\"640\" height=\"480\" align=\"center\"/>"
   ]
  },
  {
   "cell_type": "markdown",
   "metadata": {},
   "source": [
    "A little while later, a new tab to your browser should open with jupyter homepage. You will have a different list of folders and files depending on your computer. "
   ]
  },
  {
   "cell_type": "markdown",
   "metadata": {},
   "source": [
    "<img src=\"jupyter_home.png\" width=\"1024\" height=\"786\" align=\"center\"/>"
   ]
  },
  {
   "cell_type": "markdown",
   "metadata": {},
   "source": [
    "To open a new notebook, click new. There will be a dropdown. Select Python 3. "
   ]
  },
  {
   "cell_type": "markdown",
   "metadata": {},
   "source": [
    "<img src=\"jupyter_new.png\" width=\"1024\" height=\"786\" align=\"center\"/>"
   ]
  },
  {
   "cell_type": "markdown",
   "metadata": {},
   "source": [
    "You should have a new notebook open with one cell. Let's break down how to use this interface to write and execute the code. Have a look at the picture below."
   ]
  },
  {
   "cell_type": "markdown",
   "metadata": {},
   "source": [
    "<img src=\"notebook_buttons.png\" width=\"1024\" height=\"786\" align=\"center\"/>"
   ]
  },
  {
   "cell_type": "markdown",
   "metadata": {},
   "source": [
    "The yellow box shows the cell where you can write code. For example we have written a one line code that prints \"Hello World\" without the quotes. After you write this piece of code, you can hit the run button, shown inside the red box. You should see Hello World just below the cell. To save your notebook, press the save button, shown inside the green box. You can add a new cell by pressing the + button shown inside the blue box. The keyboard shortcuts for these actions are as follows: <br><br> Run - Shift + Enter (while selecting the cell to run) <br> Save - Ctrl + S <br> New cell - Shift + Enter (while selecting the last cell) "
   ]
  },
  {
   "cell_type": "markdown",
   "metadata": {},
   "source": [
    "There are two kinds of cells you need to know about - Code and Markdown. Code cells allow you to run codes that can be executed to get the output of your code. Markdown cells are for wrting texts and they can be used to write html scripts with all kinds of stylization. To learn mode about Markdowns, you can follow this guide - https://guides.github.com/features/mastering-markdown/ <br> Be mindful about the kind of cell you are working on. Depending on the question, you might need to use a particular kind of cell. "
   ]
  },
  {
   "cell_type": "markdown",
   "metadata": {},
   "source": [
    "<img src=\"notebook_cells.png\" width=\"1024\" height=\"786\" align=\"center\"/>"
   ]
  },
  {
   "cell_type": "markdown",
   "metadata": {},
   "source": [
    "## Summary"
   ]
  },
  {
   "cell_type": "markdown",
   "metadata": {},
   "source": [
    "In this notebook, we saw how to install, create and run a python code using jupyter notebook. In the next notebook, we will learn about different data types and variables in Python and how to work with them. "
   ]
  },
  {
   "cell_type": "code",
   "execution_count": null,
   "metadata": {},
   "outputs": [],
   "source": []
  }
 ],
 "metadata": {
  "kernelspec": {
   "display_name": "Python 3",
   "language": "python",
   "name": "python3"
  },
  "language_info": {
   "codemirror_mode": {
    "name": "ipython",
    "version": 3
   },
   "file_extension": ".py",
   "mimetype": "text/x-python",
   "name": "python",
   "nbconvert_exporter": "python",
   "pygments_lexer": "ipython3",
   "version": "3.6.5"
  }
 },
 "nbformat": 4,
 "nbformat_minor": 2
}
