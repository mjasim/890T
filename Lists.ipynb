{
 "cells": [
  {
   "cell_type": "markdown",
   "metadata": {},
   "source": [
    "## Introduction"
   ]
  },
  {
   "cell_type": "markdown",
   "metadata": {},
   "source": [
    "In this notebook, we will learn about lists, one of the most versatile and useful data types in python. "
   ]
  },
  {
   "cell_type": "markdown",
   "metadata": {},
   "source": [
    "A list is a collection of arbitrary objects. Lists are defined in Python by enclosing a comma-separated sequence of objects in square brackets ([]). The following cell contains some example of lists. Feel free to change the items inside the brackets. Try creating your own lists in the next cell."
   ]
  },
  {
   "cell_type": "code",
   "execution_count": null,
   "metadata": {},
   "outputs": [],
   "source": [
    "a = ['foo', 'bar', 'baz', 'qux']\n",
    "b = [1, 2, 3, 4]\n",
    "c = [2.5, 4e7, 33e-8]\n",
    "\n",
    "print(a)\n",
    "print(b)\n",
    "print(c)"
   ]
  },
  {
   "cell_type": "code",
   "execution_count": null,
   "metadata": {},
   "outputs": [],
   "source": [
    "# Try creating your own lists and print the values here\n",
    "\n"
   ]
  },
  {
   "cell_type": "markdown",
   "metadata": {},
   "source": [
    "Some of the characteristics of lists are as follows. We will explore these characteristics in detail in this notebook.\n",
    "\n",
    "1. Lists are ordered. \n",
    "2. Lists can contain any arbitrary objects.\n",
    "3. List elements can be accessed by index.\n",
    "4. Lists are mutable."
   ]
  },
  {
   "cell_type": "markdown",
   "metadata": {},
   "source": [
    "#### Lists are ordered"
   ]
  },
  {
   "cell_type": "markdown",
   "metadata": {},
   "source": [
    "The lists are ordered, meaning a list containing a certain sequence of items is different from another list containing the same values but in a different sequence. Run the following cell to see an example. Again, you can go ahead and change the values inside the lists to see how they change. "
   ]
  },
  {
   "cell_type": "code",
   "execution_count": null,
   "metadata": {},
   "outputs": [],
   "source": [
    "a = [1, 2, 3, 4, 5]\n",
    "b = [5, 4, 3, 2, 1]\n",
    "c = [1, 2, 3, 4, 5]\n",
    "\n",
    "print(a)\n",
    "print(b)\n",
    "print(a == b)\n",
    "print(a == c)"
   ]
  },
  {
   "cell_type": "markdown",
   "metadata": {},
   "source": [
    "As you can see, when we check if a and b are equal, we get False. But when we check if a and c are equal we get True becasue they maintain the same order of values. "
   ]
  },
  {
   "cell_type": "markdown",
   "metadata": {},
   "source": [
    "#### Lists can contain arbitrary objects"
   ]
  },
  {
   "cell_type": "markdown",
   "metadata": {},
   "source": [
    "Lists can contain the same type of items or completely different type of items at the same time. Run the following cell to see some examples. Feel free to change the values to see the lists change. "
   ]
  },
  {
   "cell_type": "code",
   "execution_count": null,
   "metadata": {},
   "outputs": [],
   "source": [
    "a = [1, 2, 3, 4, 5]\n",
    "b = [21.42, 3.7, 4.8, 11.78, 39,85]\n",
    "c = ['ab', 'ra', 'ca', 'dab', 'ra']\n",
    "d = [False, True, True, True, False]\n",
    "e = [1, 1, 1, 1, 1]\n",
    "f = [1, 21.42, 'ab', False, a]\n",
    "\n",
    "print(a)\n",
    "print(b)\n",
    "print(c)\n",
    "print(d)\n",
    "print(e)\n",
    "print(f)"
   ]
  },
  {
   "cell_type": "markdown",
   "metadata": {},
   "source": [
    "As you can see, the list f contains an integer (1), a floating point value (21.42), a string (ab), a boolean value (False) and another list(a = [1, 2, 3, 4, 5]) that you have define! This flexibility makes lists versatile and extremely useful to work with. Try creating your own list with arbitrary types of values. "
   ]
  },
  {
   "cell_type": "code",
   "execution_count": null,
   "metadata": {},
   "outputs": [],
   "source": [
    "# Try creating your own lists with arbitrary types and print the values here\n",
    "\n"
   ]
  },
  {
   "cell_type": "markdown",
   "metadata": {},
   "source": [
    "Lists can also contain any number of objects limited only by your computer's memory."
   ]
  },
  {
   "cell_type": "markdown",
   "metadata": {},
   "source": [
    "#### List Elements Can Be Accessed by Index"
   ]
  },
  {
   "cell_type": "markdown",
   "metadata": {},
   "source": [
    "Individual elements in a list can be accessed using an index in square brackets. A negative index counts from the end to start. Run the following cell to experiment with indexes. "
   ]
  },
  {
   "cell_type": "code",
   "execution_count": null,
   "metadata": {},
   "outputs": [],
   "source": [
    "a = [1, 2, 3, 4, 5]\n",
    "\n",
    "print(a[0])\n",
    "print(a[2])\n",
    "print(a[4])\n",
    "print(a[-1])\n",
    "print(a[-3])\n",
    "print(a[-5])"
   ]
  },
  {
   "cell_type": "markdown",
   "metadata": {},
   "source": [
    "See the following picture to understand how positive and negative indexing works for python lists. The positive indexes are at the top and the negative indexes are at the bottom."
   ]
  },
  {
   "cell_type": "markdown",
   "metadata": {},
   "source": [
    "<img src=\"index.png\" width=\"600\" height=\"400\" align=\"center\"/>"
   ]
  },
  {
   "cell_type": "markdown",
   "metadata": {},
   "source": [
    "Create your own list in the next cell and experiment with different indexing. "
   ]
  },
  {
   "cell_type": "code",
   "execution_count": null,
   "metadata": {},
   "outputs": [],
   "source": [
    "# Try creating your own string and experiment with different indexing\n",
    "\n"
   ]
  },
  {
   "cell_type": "markdown",
   "metadata": {},
   "source": [
    "You can also do slicing on a list. For example, if you needed a part of the list, not the whole, you can use slicing to get only the required part. You also cycle through the list. Try running the following cell to see a bunch of examples. "
   ]
  },
  {
   "cell_type": "code",
   "execution_count": null,
   "metadata": {},
   "outputs": [],
   "source": [
    "a = ['a', 'b', 'c', 'd', 'e', 'f', 'g', 'h', 'i', 'j']\n",
    "\n",
    "print(a[2:7])\n",
    "print(a[:])\n",
    "print(a[:5])\n",
    "print(a[5:])\n",
    "print(a[-9:-3])"
   ]
  },
  {
   "cell_type": "markdown",
   "metadata": {},
   "source": [
    "As you can see, omitting the first index starts the slice at the beginning of the list, and omitting the second index extends the slice to the end of the list. If you omit both, the whole list is taken. You an also see that slicing works with negative indexes too. But the indexing is always done from left to right. The following picture shows how slicing works on a python list."
   ]
  },
  {
   "cell_type": "markdown",
   "metadata": {},
   "source": [
    "<img src=\"slicing.png\" width=\"720\" height=\"480\" align=\"center\"/>"
   ]
  },
  {
   "cell_type": "markdown",
   "metadata": {},
   "source": [
    "Try to create your own list and try different slicing in the next cell. You can start with the ones shown in the picture above."
   ]
  },
  {
   "cell_type": "code",
   "execution_count": null,
   "metadata": {},
   "outputs": [],
   "source": [
    "# Try creating your own string called my_list and run different slicing operation\n",
    "\n"
   ]
  },
  {
   "cell_type": "markdown",
   "metadata": {},
   "source": [
    "#### List is mutable"
   ]
  },
  {
   "cell_type": "markdown",
   "metadata": {},
   "source": [
    "Another way of saying this is that a List is modifyable. Once a list has been created, elements can be added, deleted, shifted, and moved around at will. Python provides a wide range of ways to modify lists. Run the following cell to see different ways a list can be modified."
   ]
  },
  {
   "cell_type": "code",
   "execution_count": null,
   "metadata": {},
   "outputs": [],
   "source": [
    "a = ['a', 'b', 'c', 'd', 'e', 'f', 'g', 'h', 'i', 'j']\n",
    "print(a)\n",
    "\n",
    "a[5] = 'nope'\n",
    "a[7] = 'yup'\n",
    "print(a)\n",
    "\n",
    "del a[5]\n",
    "print(a)\n",
    "\n",
    "a[1:3] = ['Ding', 'ding', 'dinG']\n",
    "print(a)"
   ]
  },
  {
   "cell_type": "markdown",
   "metadata": {},
   "source": [
    "As you can see, you can modify any element in the list at a time or a group of element altogether using slicing. You camn also delete an element using the del command. Try creating your own list and modify the list as you will."
   ]
  },
  {
   "cell_type": "code",
   "execution_count": null,
   "metadata": {},
   "outputs": [],
   "source": [
    "# Try creating your own string and try different modification\n",
    "\n",
    "\n"
   ]
  },
  {
   "cell_type": "markdown",
   "metadata": {},
   "source": [
    "## Summary"
   ]
  },
  {
   "cell_type": "markdown",
   "metadata": {},
   "source": [
    "In this notebook we learned about list, indexing, slicing and modifying lists. Used properly lists can be very useful in creating solutions to intricate problems. In the next notebook we will learn about functions. "
   ]
  },
  {
   "cell_type": "code",
   "execution_count": null,
   "metadata": {},
   "outputs": [],
   "source": []
  }
 ],
 "metadata": {
  "kernelspec": {
   "display_name": "Python 3",
   "language": "python",
   "name": "python3"
  },
  "language_info": {
   "codemirror_mode": {
    "name": "ipython",
    "version": 3
   },
   "file_extension": ".py",
   "mimetype": "text/x-python",
   "name": "python",
   "nbconvert_exporter": "python",
   "pygments_lexer": "ipython3",
   "version": "3.6.5"
  }
 },
 "nbformat": 4,
 "nbformat_minor": 2
}
